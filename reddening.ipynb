{
 "cells": [
  {
   "cell_type": "markdown",
   "metadata": {},
   "source": [
    "# Calculating E(B-V) from NaID lines "
   ]
  },
  {
   "cell_type": "code",
   "execution_count": 1,
   "metadata": {},
   "outputs": [],
   "source": [
    "import numpy as np\n",
    "import pandas as pd\n",
    "import matplotlib.pyplot as plt\n",
    "import pandas as pd\n",
    "import os"
   ]
  },
  {
   "cell_type": "code",
   "execution_count": 2,
   "metadata": {},
   "outputs": [
    {
     "data": {
      "text/html": [
       "<div>\n",
       "<style scoped>\n",
       "    .dataframe tbody tr th:only-of-type {\n",
       "        vertical-align: middle;\n",
       "    }\n",
       "\n",
       "    .dataframe tbody tr th {\n",
       "        vertical-align: top;\n",
       "    }\n",
       "\n",
       "    .dataframe thead th {\n",
       "        text-align: right;\n",
       "    }\n",
       "</style>\n",
       "<table border=\"1\" class=\"dataframe\">\n",
       "  <thead>\n",
       "    <tr style=\"text-align: right;\">\n",
       "      <th></th>\n",
       "      <th>phase</th>\n",
       "      <th>line</th>\n",
       "      <th>pew</th>\n",
       "      <th>pewerr</th>\n",
       "    </tr>\n",
       "  </thead>\n",
       "  <tbody>\n",
       "    <tr>\n",
       "      <th>0</th>\n",
       "      <td>12.3</td>\n",
       "      <td>D2</td>\n",
       "      <td>0.192083</td>\n",
       "      <td>0.064301</td>\n",
       "    </tr>\n",
       "    <tr>\n",
       "      <th>1</th>\n",
       "      <td>12.3</td>\n",
       "      <td>D1</td>\n",
       "      <td>0.079923</td>\n",
       "      <td>0.068859</td>\n",
       "    </tr>\n",
       "    <tr>\n",
       "      <th>2</th>\n",
       "      <td>28.4</td>\n",
       "      <td>D2</td>\n",
       "      <td>0.144041</td>\n",
       "      <td>0.028625</td>\n",
       "    </tr>\n",
       "    <tr>\n",
       "      <th>3</th>\n",
       "      <td>28.4</td>\n",
       "      <td>D1</td>\n",
       "      <td>0.066316</td>\n",
       "      <td>0.039559</td>\n",
       "    </tr>\n",
       "  </tbody>\n",
       "</table>\n",
       "</div>"
      ],
      "text/plain": [
       "   phase line       pew    pewerr\n",
       "0   12.3   D2  0.192083  0.064301\n",
       "1   12.3   D1  0.079923  0.068859\n",
       "2   28.4   D2  0.144041  0.028625\n",
       "3   28.4   D1  0.066316  0.039559"
      ]
     },
     "execution_count": 2,
     "metadata": {},
     "output_type": "execute_result"
    }
   ],
   "source": [
    "path = os.getcwd()+'/'\n",
    "naid = pd.read_csv(path+'spec/NaID.csv')\n",
    "naid"
   ]
  },
  {
   "cell_type": "code",
   "execution_count": 3,
   "metadata": {},
   "outputs": [
    {
     "name": "stdout",
     "output_type": "stream",
     "text": [
      "spec phase: 12.3\n",
      "D1 only:\n",
      "0.028 +/- 0.012\n",
      "D2 only:\n",
      "0.168 +/- 0.063\n",
      "D1+D2:\n",
      "0.029 +/- 0.008\n",
      "---------------\n",
      "spec phase: 28.4\n",
      "D1 only:\n",
      "0.026 +/- 0.01\n",
      "D2 only:\n",
      "0.132 +/- 0.046\n",
      "D1+D2:\n",
      "0.025 +/- 0.005\n",
      "---------------\n",
      "[9.73290997996135e-10, 9.773314175903982e-10] 9.753112077932666e-10 [-7.500106617067366e-12, -4.837089706783884e-12] 8.924630866251685e-12 0.009935079970541334 0.02714429181934043\n",
      "---------------\n",
      "0.027 0.01\n"
     ]
    }
   ],
   "source": [
    "def Poznanski2012(D1,D1err,D2,D2err):\n",
    "    if D1 != 0:\n",
    "        # using equation 8 from Poznanski 2012 for E(B-V)\n",
    "        # log10(E(B-V)) = 2.47*EW(D1) - 1.76 +/- 0.17\n",
    "        a = 2.47\n",
    "        c = 1.75\n",
    "        cerr = 0.17\n",
    "        err = np.sqrt(D1err**2+cerr**2)\n",
    "\n",
    "        ebv = 10**((a*(D1))-c)\n",
    "        ebverr = 2.303*ebv*err\n",
    "        print('D1 only:')\n",
    "        print(round(ebv,3),'+/-',round(ebverr,3))\n",
    "        \n",
    "    if D2 != 0:\n",
    "        # using equation 6 from Poznanski 2012 for E(B-V)\n",
    "        # log10(E(B-V)) = 2.16*EW(D2) - 1.19 +/- 0.15\n",
    "        a = 2.16\n",
    "        c = 1.19\n",
    "        cerr = 0.15\n",
    "        err = np.sqrt(D2err**2+cerr**2)\n",
    "\n",
    "        ebv = 10**((a*(D2))-c)\n",
    "        ebverr = 2.303*ebv*err\n",
    "        print('D2 only:')\n",
    "        print(round(ebv,3),'+/-',round(ebverr,3))\n",
    "    \n",
    "    if D1 != 0 and D2 != 0:\n",
    "        # using equation 9 from Poznanski 2012 for E(B-V)\n",
    "        # log10(E(B-V)) = 1.17*EW(D1+D2) - 1.85 +/- 0.08\n",
    "        a = 1.17\n",
    "        c = 1.85\n",
    "        cerr = 0.08\n",
    "        err = np.sqrt(D1err**2+D2err**2+cerr**2)\n",
    "\n",
    "        ebv = 10**((a*(D1+D2))-c)\n",
    "        ebverr = 2.303*ebv*err\n",
    "        print('D1+D2:')\n",
    "        print(round(ebv,3),'+/-',round(ebverr,3))\n",
    "        return [ebv,ebverr]\n",
    "    \n",
    "# error propagation for the different phases\n",
    "def propagate(ebv,err):\n",
    "    def f(f0,mag):\n",
    "        return f0*10**(-mag/2.5)\n",
    "    def m(flux,f0):\n",
    "        return -2.5*np.log10(flux/f0)\n",
    "    def df(flux,dm):\n",
    "        return flux*dm*(-np.log(10)/2.5)\n",
    "    def quad(errs):\n",
    "        return np.sqrt(sum([x**2 for x in errs]))\n",
    "\n",
    "    # convert to flux and then propogate the errors because mag is a log scale and this is easier\n",
    "    f0 = 10**-9 # vega\n",
    "    flux = [f(f0,m) for m in ebv]\n",
    "    dflux = [df(flux[i],err[i]) for i in range(len(err))]\n",
    "    avgf = sum(flux)/len(ebv)\n",
    "    properr = quad(dflux)\n",
    "    propdm = abs(-2.5/np.log(10)*(properr/avgf))\n",
    "    avgebv = sum([m(x,f0) for x in flux])/len(flux)\n",
    "\n",
    "    print(flux,avgf,dflux,properr,propdm,avgebv)\n",
    "    \n",
    "    return [avgebv,propdm]\n",
    "        \n",
    "ebv, err = [], []\n",
    "for phase in set(naid.phase.values):\n",
    "    print('spec phase:',phase)\n",
    "    loopdf = naid[(naid.phase == phase)]\n",
    "    D1 = loopdf[(loopdf.line == 'D1')]['pew'].values[0]\n",
    "    D1err = loopdf[(loopdf.line == 'D1')]['pewerr'].values[0]\n",
    "    D2 = loopdf[(loopdf.line == 'D2')]['pew'].values[0]\n",
    "    D2err = loopdf[(loopdf.line == 'D2')]['pewerr'].values[0]\n",
    "    lebv, lerr = Poznanski2012(D1,D1err,D2,D2err)\n",
    "    ebv.append(lebv)\n",
    "    err.append(lerr)\n",
    "    print('---------------')\n",
    "    \n",
    "ebvFinal, errFinal = propagate(ebv,err)\n",
    "print('---------------')\n",
    "print(round(ebvFinal,3),round(errFinal,3))"
   ]
  },
  {
   "cell_type": "code",
   "execution_count": 4,
   "metadata": {},
   "outputs": [
    {
     "name": "stdout",
     "output_type": "stream",
     "text": [
      "ebv: 0.046\n",
      "[9.753091155113522e-10, 9.824715882051594e-10] 9.788903518582557e-10 [-8.924611720728075e-12, -4.5244488665827697e-13] 8.936073004470149e-12 0.009911445108123697 0.023172145909670185\n",
      "ebv error: 0.01\n"
     ]
    }
   ],
   "source": [
    "# total E(B-V)\n",
    "ebvMW, ebverrMW = 0.0192, 0.0005\n",
    "ebv = [ebvFinal,ebvMW]\n",
    "ebverr = [errFinal,ebverrMW]\n",
    "print('ebv:',round(sum(ebv),3))\n",
    "print('ebv error:',round(propagate(ebv,ebverr)[1],3))"
   ]
  },
  {
   "cell_type": "code",
   "execution_count": null,
   "metadata": {},
   "outputs": [],
   "source": []
  }
 ],
 "metadata": {
  "kernelspec": {
   "display_name": "Python 3",
   "language": "python",
   "name": "python3"
  },
  "language_info": {
   "codemirror_mode": {
    "name": "ipython",
    "version": 3
   },
   "file_extension": ".py",
   "mimetype": "text/x-python",
   "name": "python",
   "nbconvert_exporter": "python",
   "pygments_lexer": "ipython3",
   "version": "3.8.3"
  }
 },
 "nbformat": 4,
 "nbformat_minor": 4
}
